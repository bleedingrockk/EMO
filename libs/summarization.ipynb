{
 "cells": [
  {
   "cell_type": "code",
   "execution_count": null,
   "id": "7d9ebfc0-d3c2-4774-a61d-6ff2867779a3",
   "metadata": {},
   "outputs": [],
   "source": [
    "import nltk\n",
    "from transformers import pipeline\n",
    "from nltk.tokenize import sent_tokenize\n",
    "\n",
    "# Download the punkt tokenizer if not already available\n",
    "nltk.download('punkt')\n",
    "\n",
    "# Function to preprocess and clean text\n",
    "def preprocess_text(text):\n",
    "    # Tokenize the text into sentences\n",
    "    sentences = sent_tokenize(text)\n",
    "    # Join sentences to ensure better summarization\n",
    "    cleaned_text = ' '.join(sentences)\n",
    "    return cleaned_text\n",
    "\n",
    "# Example text with non-standard grammar\n",
    "text = \"\"\"\n",
    "In the morning light, a shadow of a dream,\n",
    "Creeping through the streets where the lost hearts gleam,\n",
    "Never been so lost, never been so found,\n",
    "Words just floating, never touching the ground.\n",
    "\"\"\"\n",
    "\n",
    "# Preprocess the text\n",
    "cleaned_text = preprocess_text(text)\n",
    "\n",
    "# Initialize the summarization pipeline\n",
    "summarizer = pipeline(\"summarization\")\n",
    "\n",
    "# Generate the summary\n",
    "summary = summarizer(cleaned_text, max_length=50, min_length=25, do_sample=False)\n",
    "\n",
    "# Print the summary\n",
    "print(\"Summary:\", summary[0]['summary_text'])\n"
   ]
  }
 ],
 "metadata": {
  "kernelspec": {
   "display_name": "Python 3 (ipykernel)",
   "language": "python",
   "name": "python3"
  },
  "language_info": {
   "codemirror_mode": {
    "name": "ipython",
    "version": 3
   },
   "file_extension": ".py",
   "mimetype": "text/x-python",
   "name": "python",
   "nbconvert_exporter": "python",
   "pygments_lexer": "ipython3",
   "version": "3.10.14"
  }
 },
 "nbformat": 4,
 "nbformat_minor": 5
}
