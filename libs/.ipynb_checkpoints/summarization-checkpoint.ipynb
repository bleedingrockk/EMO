{
 "cells": [
  {
   "cell_type": "code",
   "execution_count": null,
   "id": "7d9ebfc0-d3c2-4774-a61d-6ff2867779a3",
   "metadata": {},
   "outputs": [],
   "source": [
    "import nltk\n",
    "from transformers import pipeline\n",
    "from nltk.tokenize import sent_tokenize\n",
    "\n",
    "# Download the punkt tokenizer if not already available\n",
    "nltk.download('punkt')\n",
    "\n",
    "# Function to preprocess and clean text\n",
    "def preprocess_text(text):\n",
    "    # Tokenize the text into sentences\n",
    "    sentences = sent_tokenize(text)\n",
    "    # Join sentences to ensure better summarization\n",
    "    cleaned_text = ' '.join(sentences)\n",
    "    return cleaned_text\n",
    "\n",
    "# Example text with non-standard grammar\n",
    "text = \"\"\"\n",
    "Kiss me hard before you go, summertime sadness, I just wanted you to know, that baby you the best, I got my red dress on tonight, dancin' in the dark in the pale moonlight, done my hair up real big, beauty queen style, high heels off, I'm feelin alive, oh my god, i feel it in the air, telephone wires above , are sizzlin' like a snare, honey I'm on fire, I feel it everywhere, nothin' scares me anymore, (two three four), kiss me hard before you go, summertime sadness, I just wanted you to know, that baby, you the best, I got that summertime, summertime sadness, su-su summertime, summertime sadness, got that summertime, summertime sadness oh oh, I'm feelin' electric tonight, cruisin' down the coast, goin' about 99, got my bad baby by my heavenly side, I know if I go, I'll die happy tonight, oh my god, I feel it in the air, telephone wires above, are sizzlin' like a snare, honey I'm on fire, I feel it everywhere, nothin' scares me anymore, (two three four), kiss me hard before you go, summertime sadness, I just wanted you to know, that baby, you the best, I got that summertime, summertime sadness, su-su summertime, summertime sadness, got that summertime, summertime sadness oh oh, Think I'll miss you forever, Like the stars miss the sun in the morning sky, Later's better than never, Even if you're gone I'm gonna drive (drive, drive),​, (drive, drive), I got that summertime summertime sadness, su su summertime, summertime sadness, got that summertime, summertime sadness oh oh, kiss me hard before you go, summertime sadness, I just wanted you to know, that baby, you the best, I got that summertime summertime sadness, su su summertime, summertime sadness, got that summertime, summertime sadness oh oh\n",
    "\"\"\"\n",
    "\n",
    "# Preprocess the text\n",
    "cleaned_text = preprocess_text(text)\n",
    "\n",
    "# Initialize the summarization pipeline\n",
    "summarizer = pipeline(\"summarization\")\n",
    "\n",
    "# Generate the summary\n",
    "summary = summarizer(cleaned_text, max_length=50, min_length=25, do_sample=False)\n",
    "\n",
    "# Print the summary\n",
    "print(\"Summary:\", summary[0]['summary_text'])\n"
   ]
  }
 ],
 "metadata": {
  "kernelspec": {
   "display_name": "Python 3 (ipykernel)",
   "language": "python",
   "name": "python3"
  },
  "language_info": {
   "codemirror_mode": {
    "name": "ipython",
    "version": 3
   },
   "file_extension": ".py",
   "mimetype": "text/x-python",
   "name": "python",
   "nbconvert_exporter": "python",
   "pygments_lexer": "ipython3",
   "version": "3.10.14"
  }
 },
 "nbformat": 4,
 "nbformat_minor": 5
}
